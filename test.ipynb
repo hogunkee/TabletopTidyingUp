{
 "cells": [
  {
   "cell_type": "code",
   "execution_count": 1,
   "metadata": {},
   "outputs": [
    {
     "name": "stderr",
     "output_type": "stream",
     "text": [
      "pybullet build time: Nov 28 2023 23:51:11\n"
     ]
    },
    {
     "name": "stdout",
     "output_type": "stream",
     "text": [
      "startThreads creating 1 threads.\n",
      "starting thread 0\n",
      "started thread 0 \n",
      "argc=2\n",
      "argv[0] = --unused\n",
      "argv[1] = --start_demo_name=Physics Server\n",
      "ExampleBrowserThreadFunc started\n",
      "X11 functions dynamically loaded using dlopen/dlsym OK!\n",
      "X11 functions dynamically loaded using dlopen/dlsym OK!\n",
      "Creating context\n",
      "Created GL 3.3 context\n",
      "Direct GLX rendering context obtained\n",
      "Making context current\n",
      "GL_VENDOR=NVIDIA Corporation\n",
      "GL_RENDERER=NVIDIA GeForce RTX 3080 Ti/PCIe/SSE2\n",
      "GL_VERSION=3.3.0 NVIDIA 525.147.05\n",
      "GL_SHADING_LANGUAGE_VERSION=3.30 NVIDIA via Cg compiler\n",
      "pthread_getconcurrency()=0\n",
      "Version = 3.3.0 NVIDIA 525.147.05\n",
      "Vendor = NVIDIA Corporation\n",
      "Renderer = NVIDIA GeForce RTX 3080 Ti/PCIe/SSE2\n",
      "b3Printf: Selected demo: Physics Server\n",
      "startThreads creating 1 threads.\n",
      "starting thread 0\n",
      "started thread 0 \n",
      "MotionThreadFunc thread started\n",
      "ven = NVIDIA Corporation\n",
      "ven = NVIDIA Corporation\n",
      "obj_id 2\n",
      "obj2_id 3\n",
      "obj3_id 4\n",
      "obj4_id 5\n",
      "obj5_id 6\n",
      "obj6_id 7\n",
      "numActiveThreads = 0\n",
      "stopping threads\n",
      "Thread with taskId 0 exiting\n",
      "Thread TERMINATED\n",
      "destroy semaphore\n",
      "semaphore destroyed\n",
      "destroy main semaphore\n",
      "main semaphore destroyed\n",
      "finished\n",
      "numActiveThreads = 0\n",
      "btShutDownExampleBrowser stopping threads\n",
      "Thread with taskId 0 exiting\n",
      "destroy semaphore\n",
      "semaphore destroyed\n",
      "Thread TERMINATED\n",
      "destroy main semaphore\n",
      "main semaphore destroyed\n"
     ]
    }
   ],
   "source": [
    "import os\n",
    "import pybullet_data\n",
    "import pybullet as p\n",
    "import time\n",
    "\n",
    "def camera_top_view(w,h):   \n",
    "    fov = 60\n",
    "    aspect = w/h\n",
    "    near = 0.02\n",
    "    far = 2\n",
    "    view_matrix = p.computeViewMatrix([0.5, 0, 1.3], [0, 0, 0.3], [0, 0, 1])\n",
    "    projection_matrix = p.computeProjectionMatrixFOV(fov, aspect, near, far)\n",
    "    return view_matrix, projection_matrix\n",
    "\n",
    "# Start the PyBullet simulation\n",
    "p.connect(p.GUI)\n",
    "p.setAdditionalSearchPath(pybullet_data.getDataPath())\n",
    "p.setGravity(0, 0, -9.8)\n",
    "p.setTimeStep(1 / 240)\n",
    "\n",
    "# Add your simulation code here\n",
    "# Create a table collision shape\n",
    "\n",
    "planeID = p.loadURDF(\"plane.urdf\")\n",
    "startPos = [0, 0, 1]\n",
    "startOrientation = p.getQuaternionFromEuler([0, 0, 0])\n",
    "table_id = p.loadURDF(\"table/table.urdf\", basePosition=[0.0,0.0,0.0], baseOrientation=[0.0,0.0,0.7071,0.7071])\n",
    "\n",
    "#add objects\n",
    "obj_id = p.loadURDF(\"cube_small.urdf\", basePosition=[0.0,0.0,0.8], baseOrientation=[0.0,0.0,0.7071,0.7071])\n",
    "obj2_id = p.loadURDF(\"./pybullet-URDF-models/urdf_models/models/cleanser/model.urdf\", basePosition=[0.2,0.1,0.8], baseOrientation=[0.0,0.0,0.7071,0.7071])\n",
    "obj3_id = p.loadURDF(\"./pybullet-URDF-models/urdf_models/models/cleanser/model.urdf\", basePosition=[0.2,0.2,0.8], baseOrientation=[0.0,0.0,0.7071,0.7071])\n",
    "obj4_id = p.loadURDF(\"./pybullet-URDF-models/urdf_models/models/cleanser/model.urdf\", basePosition=[0.2,0.3,0.8], baseOrientation=[0.0,0.0,0.7071,0.7071])\n",
    "obj5_id = p.loadURDF(\"./pybullet-URDF-models/urdf_models/models/cleanser/model.urdf\", basePosition=[0.2,0.4,0.8], baseOrientation=[0.0,0.0,0.7071,0.7071])\n",
    "obj6_id = p.loadURDF(\"./pybullet-URDF-models/urdf_models/models/cleanser/model.urdf\", basePosition=[0.2,0.5,0.8], baseOrientation=[0.0,0.0,0.7071,0.7071])\n",
    "\n",
    "#print all objects ids\n",
    "print(\"obj_id\",obj_id)\n",
    "print(\"obj2_id\",obj2_id)\n",
    "print(\"obj3_id\",obj3_id)\n",
    "print(\"obj4_id\",obj4_id)\n",
    "print(\"obj5_id\",obj5_id)\n",
    "print(\"obj6_id\",obj6_id)\n",
    "\n",
    "\n",
    "# camera parameters\n",
    "\n",
    "cam_width, cam_height = 480,360\n",
    "view_matrix, projection_matrix = camera_top_view(cam_width,cam_height)\n",
    "\n",
    "\n",
    "for i in range(1000):\n",
    "    p.stepSimulation()\n",
    "    time.sleep(1. / 240.)\n",
    "    if i%50==0:\n",
    "        images = p.getCameraImage(cam_width,\n",
    "                            cam_height,\n",
    "                            view_matrix,\n",
    "                            projection_matrix,\n",
    "                            shadow=True,\n",
    "                            renderer=p.ER_TINY_RENDERER)\n",
    "    # print(\"obj_id\",obj_id)  \n",
    "    # print(p.getAABB(obj_id))\n",
    "    # print(p.getAABB(obj2_id))\n",
    "    if(i==50):\n",
    "        p.removeBody(obj_id)\n",
    "    if(i==100):\n",
    "        obj_id = p.loadURDF(\"cube_small.urdf\", basePosition=[0.0,0.0,0.8], baseOrientation=[0.0,0.0,0.7071,0.7071])\n",
    "# End the PyBullet simulation\n",
    "p.disconnect()"
   ]
  },
  {
   "cell_type": "code",
   "execution_count": 1,
   "metadata": {},
   "outputs": [
    {
     "name": "stdout",
     "output_type": "stream",
     "text": [
      "1\n"
     ]
    }
   ],
   "source": [
    "print('1')"
   ]
  },
  {
   "cell_type": "code",
   "execution_count": 37,
   "metadata": {},
   "outputs": [
    {
     "name": "stdout",
     "output_type": "stream",
     "text": [
      "0.6835873\n"
     ]
    },
    {
     "data": {
      "image/png": "[encoded data removed]",
      "text/plain": [
       "<Figure size 640x480 with 1 Axes>"
      ]
     },
     "metadata": {},
     "output_type": "display_data"
    }
   ],
   "source": [
    "import cv2\n",
    "import matplotlib.pyplot as plt\n",
    "import numpy as np\n",
    "depth = np.load('./dataset/collect_test/depth.npy')\n",
    "print(depth[200][200])\n",
    "plt.imshow(depth)\n",
    "plt.show()"
   ]
  },
  {
   "cell_type": "code",
   "execution_count": null,
   "metadata": {},
   "outputs": [],
   "source": []
  }
 ],
 "metadata": {
  "kernelspec": {
   "display_name": "pyb_env",
   "language": "python",
   "name": "python3"
  },
  "language_info": {
   "codemirror_mode": {
    "name": "ipython",
    "version": 3
   },
   "file_extension": ".py",
   "mimetype": "text/x-python",
   "name": "python",
   "nbconvert_exporter": "python",
   "pygments_lexer": "ipython3",
   "version": "3.8.10"
  }
 },
 "nbformat": 4,
 "nbformat_minor": 2
}
